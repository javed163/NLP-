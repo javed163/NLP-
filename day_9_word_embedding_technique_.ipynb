{
  "nbformat": 4,
  "nbformat_minor": 0,
  "metadata": {
    "colab": {
      "provenance": [],
      "gpuType": "T4",
      "mount_file_id": "1QIKdYzotf4hrMnvGPF7ybQL3MFGL7Lzt",
      "authorship_tag": "ABX9TyO+HM5LW96tZHCb/2rZqTXw",
      "include_colab_link": true
    },
    "kernelspec": {
      "name": "python3",
      "display_name": "Python 3"
    },
    "language_info": {
      "name": "python"
    },
    "accelerator": "GPU"
  },
  "cells": [
    {
      "cell_type": "markdown",
      "metadata": {
        "id": "view-in-github",
        "colab_type": "text"
      },
      "source": [
        "<a href=\"https://colab.research.google.com/github/javed163/NLP-/blob/main/day_9_word_embedding_technique_.ipynb\" target=\"_parent\"><img src=\"https://colab.research.google.com/assets/colab-badge.svg\" alt=\"Open In Colab\"/></a>"
      ]
    },
    {
      "cell_type": "markdown",
      "source": [
        "# Word embedding techniques using embedding layers in keras"
      ],
      "metadata": {
        "id": "GOXaN1orAe6m"
      }
    },
    {
      "cell_type": "code",
      "source": [
        "!pip install tensorflow-gpu"
      ],
      "metadata": {
        "colab": {
          "base_uri": "https://localhost:8080/"
        },
        "id": "Sc3FN1iCA8G1",
        "outputId": "6f18dee3-3304-41e4-e6c7-61761ddf4ffd"
      },
      "execution_count": 3,
      "outputs": [
        {
          "output_type": "stream",
          "name": "stdout",
          "text": [
            "Collecting tensorflow-gpu\n",
            "  Using cached tensorflow-gpu-2.12.0.tar.gz (2.6 kB)\n",
            "  \u001b[1;31merror\u001b[0m: \u001b[1msubprocess-exited-with-error\u001b[0m\n",
            "  \n",
            "  \u001b[31m×\u001b[0m \u001b[32mpython setup.py egg_info\u001b[0m did not run successfully.\n",
            "  \u001b[31m│\u001b[0m exit code: \u001b[1;36m1\u001b[0m\n",
            "  \u001b[31m╰─>\u001b[0m See above for output.\n",
            "  \n",
            "  \u001b[1;35mnote\u001b[0m: This error originates from a subprocess, and is likely not a problem with pip.\n",
            "  Preparing metadata (setup.py) ... \u001b[?25l\u001b[?25herror\n",
            "\u001b[1;31merror\u001b[0m: \u001b[1mmetadata-generation-failed\u001b[0m\n",
            "\n",
            "\u001b[31m×\u001b[0m Encountered error while generating package metadata.\n",
            "\u001b[31m╰─>\u001b[0m See above for output.\n",
            "\n",
            "\u001b[1;35mnote\u001b[0m: This is an issue with the package mentioned above, not pip.\n",
            "\u001b[1;36mhint\u001b[0m: See above for details.\n"
          ]
        }
      ]
    },
    {
      "cell_type": "code",
      "source": [
        "import tensorflow as tf\n",
        "print(tf.__version__)"
      ],
      "metadata": {
        "colab": {
          "base_uri": "https://localhost:8080/"
        },
        "id": "YbDIFeKBA8Du",
        "outputId": "d9b0a3f5-13ef-4d19-918a-883a6fedbe65"
      },
      "execution_count": 4,
      "outputs": [
        {
          "output_type": "stream",
          "name": "stdout",
          "text": [
            "2.18.0\n"
          ]
        }
      ]
    },
    {
      "cell_type": "code",
      "source": [
        "from tensorflow.keras.preprocessing.text import one_hot"
      ],
      "metadata": {
        "id": "tN-rFwu5BzA1"
      },
      "execution_count": 5,
      "outputs": []
    },
    {
      "cell_type": "code",
      "source": [
        "### sentences\n",
        "sent=[  'the glass of milk',\n",
        "     'the glass of juice',\n",
        "     'the cup of tea',\n",
        "    'I am a good boy',\n",
        "     'I am a good developer',\n",
        "     'understand the meaning of words',\n",
        "     'your videos are good']"
      ],
      "metadata": {
        "id": "jjUQLn0MBy90"
      },
      "execution_count": 6,
      "outputs": []
    },
    {
      "cell_type": "code",
      "source": [
        "sent"
      ],
      "metadata": {
        "colab": {
          "base_uri": "https://localhost:8080/"
        },
        "id": "a60zyYAQBy7I",
        "outputId": "8250f7f5-10c2-43d7-a736-af0f80cd80dd"
      },
      "execution_count": 9,
      "outputs": [
        {
          "output_type": "execute_result",
          "data": {
            "text/plain": [
              "['the glass of milk',\n",
              " 'the glass of juice',\n",
              " 'the cup of tea',\n",
              " 'I am a good boy',\n",
              " 'I am a good developer',\n",
              " 'understand the meaning of words',\n",
              " 'your videos are good']"
            ]
          },
          "metadata": {},
          "execution_count": 9
        }
      ]
    },
    {
      "cell_type": "code",
      "source": [
        "# vocabulary size is 10000\n",
        "cov_size = 10000"
      ],
      "metadata": {
        "id": "QzFg3ZxHBy4u"
      },
      "execution_count": 10,
      "outputs": []
    },
    {
      "cell_type": "markdown",
      "source": [
        "# one hot representation"
      ],
      "metadata": {
        "id": "Ey7pR7XYC8L1"
      }
    },
    {
      "cell_type": "code",
      "source": [
        "one_hot_rep = [one_hot(words, cov_size) for words in sent]\n",
        "print(one_hot_rep)"
      ],
      "metadata": {
        "colab": {
          "base_uri": "https://localhost:8080/"
        },
        "id": "cgQdl87hBy1u",
        "outputId": "60232b69-b69c-4ef0-c4b9-724bb06736a6"
      },
      "execution_count": 11,
      "outputs": [
        {
          "output_type": "stream",
          "name": "stdout",
          "text": [
            "[[795, 9363, 9847, 2087], [795, 9363, 9847, 1866], [795, 2174, 9847, 1342], [9502, 8761, 9298, 2648, 7183], [9502, 8761, 9298, 2648, 69], [3769, 795, 687, 9847, 7012], [8666, 2443, 6379, 2648]]\n"
          ]
        }
      ]
    },
    {
      "cell_type": "markdown",
      "source": [
        "# word embedding representation"
      ],
      "metadata": {
        "id": "iadfx5h-D3ad"
      }
    },
    {
      "cell_type": "code",
      "source": [
        "import numpy as np\n",
        "from tensorflow.keras.layers import Embedding\n",
        "from tensorflow.keras.preprocessing.sequence import pad_sequences\n",
        "from tensorflow.keras.models import Sequential"
      ],
      "metadata": {
        "id": "KFl-mceCByyt"
      },
      "execution_count": 12,
      "outputs": []
    },
    {
      "cell_type": "code",
      "source": [
        "sent_len = len(sent)\n",
        "embedding_doc = pad_sequences(one_hot_rep, padding = 'pre', maxlen=sent_len)\n",
        "print(embedding_doc)"
      ],
      "metadata": {
        "colab": {
          "base_uri": "https://localhost:8080/"
        },
        "id": "mI1_c19XBywE",
        "outputId": "526f285e-88b1-4489-f953-d135f9f2b2dd"
      },
      "execution_count": 13,
      "outputs": [
        {
          "output_type": "stream",
          "name": "stdout",
          "text": [
            "[[   0    0    0  795 9363 9847 2087]\n",
            " [   0    0    0  795 9363 9847 1866]\n",
            " [   0    0    0  795 2174 9847 1342]\n",
            " [   0    0 9502 8761 9298 2648 7183]\n",
            " [   0    0 9502 8761 9298 2648   69]\n",
            " [   0    0 3769  795  687 9847 7012]\n",
            " [   0    0    0 8666 2443 6379 2648]]\n"
          ]
        }
      ]
    },
    {
      "cell_type": "code",
      "source": [
        "dim = 10"
      ],
      "metadata": {
        "id": "JTiC7K9TByte"
      },
      "execution_count": 14,
      "outputs": []
    },
    {
      "cell_type": "code",
      "source": [
        "model = Sequential()\n",
        "model.add(Embedding(cov_size,10 , input_length = sent_len))\n",
        "model.compile('adam','mse')"
      ],
      "metadata": {
        "colab": {
          "base_uri": "https://localhost:8080/"
        },
        "id": "GhAiTe9eByql",
        "outputId": "98b22e05-3618-468b-cfdb-4098832943d1"
      },
      "execution_count": 35,
      "outputs": [
        {
          "output_type": "stream",
          "name": "stderr",
          "text": [
            "/usr/local/lib/python3.11/dist-packages/keras/src/layers/core/embedding.py:90: UserWarning: Argument `input_length` is deprecated. Just remove it.\n",
            "  warnings.warn(\n"
          ]
        }
      ]
    },
    {
      "cell_type": "code",
      "source": [
        "model.summary()"
      ],
      "metadata": {
        "colab": {
          "base_uri": "https://localhost:8080/",
          "height": 168
        },
        "id": "mWu9v8poByn1",
        "outputId": "11dbf2d9-5b62-4356-a87e-246a75825c24"
      },
      "execution_count": 36,
      "outputs": [
        {
          "output_type": "display_data",
          "data": {
            "text/plain": [
              "\u001b[1mModel: \"sequential_11\"\u001b[0m\n"
            ],
            "text/html": [
              "<pre style=\"white-space:pre;overflow-x:auto;line-height:normal;font-family:Menlo,'DejaVu Sans Mono',consolas,'Courier New',monospace\"><span style=\"font-weight: bold\">Model: \"sequential_11\"</span>\n",
              "</pre>\n"
            ]
          },
          "metadata": {}
        },
        {
          "output_type": "display_data",
          "data": {
            "text/plain": [
              "┏━━━━━━━━━━━━━━━━━━━━━━━━━━━━━━━━━━━━━━┳━━━━━━━━━━━━━━━━━━━━━━━━━━━━━┳━━━━━━━━━━━━━━━━━┓\n",
              "┃\u001b[1m \u001b[0m\u001b[1mLayer (type)                        \u001b[0m\u001b[1m \u001b[0m┃\u001b[1m \u001b[0m\u001b[1mOutput Shape               \u001b[0m\u001b[1m \u001b[0m┃\u001b[1m \u001b[0m\u001b[1m        Param #\u001b[0m\u001b[1m \u001b[0m┃\n",
              "┡━━━━━━━━━━━━━━━━━━━━━━━━━━━━━━━━━━━━━━╇━━━━━━━━━━━━━━━━━━━━━━━━━━━━━╇━━━━━━━━━━━━━━━━━┩\n",
              "│ embedding_8 (\u001b[38;5;33mEmbedding\u001b[0m)              │ ?                           │     \u001b[38;5;34m0\u001b[0m (unbuilt) │\n",
              "└──────────────────────────────────────┴─────────────────────────────┴─────────────────┘\n"
            ],
            "text/html": [
              "<pre style=\"white-space:pre;overflow-x:auto;line-height:normal;font-family:Menlo,'DejaVu Sans Mono',consolas,'Courier New',monospace\">┏━━━━━━━━━━━━━━━━━━━━━━━━━━━━━━━━━━━━━━┳━━━━━━━━━━━━━━━━━━━━━━━━━━━━━┳━━━━━━━━━━━━━━━━━┓\n",
              "┃<span style=\"font-weight: bold\"> Layer (type)                         </span>┃<span style=\"font-weight: bold\"> Output Shape                </span>┃<span style=\"font-weight: bold\">         Param # </span>┃\n",
              "┡━━━━━━━━━━━━━━━━━━━━━━━━━━━━━━━━━━━━━━╇━━━━━━━━━━━━━━━━━━━━━━━━━━━━━╇━━━━━━━━━━━━━━━━━┩\n",
              "│ embedding_8 (<span style=\"color: #0087ff; text-decoration-color: #0087ff\">Embedding</span>)              │ ?                           │     <span style=\"color: #00af00; text-decoration-color: #00af00\">0</span> (unbuilt) │\n",
              "└──────────────────────────────────────┴─────────────────────────────┴─────────────────┘\n",
              "</pre>\n"
            ]
          },
          "metadata": {}
        },
        {
          "output_type": "display_data",
          "data": {
            "text/plain": [
              "\u001b[1m Total params: \u001b[0m\u001b[38;5;34m0\u001b[0m (0.00 B)\n"
            ],
            "text/html": [
              "<pre style=\"white-space:pre;overflow-x:auto;line-height:normal;font-family:Menlo,'DejaVu Sans Mono',consolas,'Courier New',monospace\"><span style=\"font-weight: bold\"> Total params: </span><span style=\"color: #00af00; text-decoration-color: #00af00\">0</span> (0.00 B)\n",
              "</pre>\n"
            ]
          },
          "metadata": {}
        },
        {
          "output_type": "display_data",
          "data": {
            "text/plain": [
              "\u001b[1m Trainable params: \u001b[0m\u001b[38;5;34m0\u001b[0m (0.00 B)\n"
            ],
            "text/html": [
              "<pre style=\"white-space:pre;overflow-x:auto;line-height:normal;font-family:Menlo,'DejaVu Sans Mono',consolas,'Courier New',monospace\"><span style=\"font-weight: bold\"> Trainable params: </span><span style=\"color: #00af00; text-decoration-color: #00af00\">0</span> (0.00 B)\n",
              "</pre>\n"
            ]
          },
          "metadata": {}
        },
        {
          "output_type": "display_data",
          "data": {
            "text/plain": [
              "\u001b[1m Non-trainable params: \u001b[0m\u001b[38;5;34m0\u001b[0m (0.00 B)\n"
            ],
            "text/html": [
              "<pre style=\"white-space:pre;overflow-x:auto;line-height:normal;font-family:Menlo,'DejaVu Sans Mono',consolas,'Courier New',monospace\"><span style=\"font-weight: bold\"> Non-trainable params: </span><span style=\"color: #00af00; text-decoration-color: #00af00\">0</span> (0.00 B)\n",
              "</pre>\n"
            ]
          },
          "metadata": {}
        }
      ]
    },
    {
      "cell_type": "code",
      "source": [
        "model.predict(embedding_doc[0])"
      ],
      "metadata": {
        "colab": {
          "base_uri": "https://localhost:8080/"
        },
        "id": "xBMbKZ7_KX7g",
        "outputId": "65d65e33-8b1a-4f07-ebc8-2a345ffaac0a"
      },
      "execution_count": 37,
      "outputs": [
        {
          "output_type": "stream",
          "name": "stdout",
          "text": [
            "\u001b[1m1/1\u001b[0m \u001b[32m━━━━━━━━━━━━━━━━━━━━\u001b[0m\u001b[37m\u001b[0m \u001b[1m0s\u001b[0m 190ms/step\n"
          ]
        },
        {
          "output_type": "execute_result",
          "data": {
            "text/plain": [
              "array([[ 0.00612725,  0.04053125, -0.00880282,  0.03342629,  0.00428345,\n",
              "        -0.02405235, -0.01360986, -0.00096362, -0.04849559, -0.01172241],\n",
              "       [ 0.00612725,  0.04053125, -0.00880282,  0.03342629,  0.00428345,\n",
              "        -0.02405235, -0.01360986, -0.00096362, -0.04849559, -0.01172241],\n",
              "       [ 0.00612725,  0.04053125, -0.00880282,  0.03342629,  0.00428345,\n",
              "        -0.02405235, -0.01360986, -0.00096362, -0.04849559, -0.01172241],\n",
              "       [ 0.02319987,  0.03848919, -0.00095988,  0.01188559,  0.01360034,\n",
              "         0.03504649,  0.01862014,  0.02092406, -0.02666966,  0.04320866],\n",
              "       [-0.01670905, -0.02919173, -0.04337807, -0.02526492, -0.00139564,\n",
              "         0.02046755,  0.00751489, -0.01134988, -0.02385812, -0.00816907],\n",
              "       [ 0.00932432, -0.04035089,  0.0440835 , -0.02352437, -0.01741284,\n",
              "        -0.02346807,  0.01974112, -0.02364978, -0.04916095, -0.01937634],\n",
              "       [ 0.02162287, -0.04551345, -0.01270319,  0.04742631, -0.03881751,\n",
              "        -0.01650437, -0.00908   , -0.00422195,  0.02707991,  0.03442408]],\n",
              "      dtype=float32)"
            ]
          },
          "metadata": {},
          "execution_count": 37
        }
      ]
    },
    {
      "cell_type": "code",
      "source": [
        "print(model.predict(embedding_doc))"
      ],
      "metadata": {
        "colab": {
          "base_uri": "https://localhost:8080/"
        },
        "id": "rPCLoFJJByiI",
        "outputId": "14e18283-d3c4-401e-f4a7-c0a3cbeb3e59"
      },
      "execution_count": 27,
      "outputs": [
        {
          "output_type": "stream",
          "name": "stdout",
          "text": [
            "\u001b[1m1/1\u001b[0m \u001b[32m━━━━━━━━━━━━━━━━━━━━\u001b[0m\u001b[37m\u001b[0m \u001b[1m1s\u001b[0m 902ms/step\n",
            "[[[-2.58246791e-02 -2.06206925e-02 -1.75144896e-02  1.17503628e-02\n",
            "    4.89812978e-02 -2.20578443e-02 -2.90968549e-02  2.10108422e-02\n",
            "   -2.48093251e-02  2.54102089e-02]\n",
            "  [-2.58246791e-02 -2.06206925e-02 -1.75144896e-02  1.17503628e-02\n",
            "    4.89812978e-02 -2.20578443e-02 -2.90968549e-02  2.10108422e-02\n",
            "   -2.48093251e-02  2.54102089e-02]\n",
            "  [-2.58246791e-02 -2.06206925e-02 -1.75144896e-02  1.17503628e-02\n",
            "    4.89812978e-02 -2.20578443e-02 -2.90968549e-02  2.10108422e-02\n",
            "   -2.48093251e-02  2.54102089e-02]\n",
            "  [-1.27554052e-02 -4.32868116e-02 -3.19566578e-03  3.59214842e-04\n",
            "   -2.95317061e-02  7.57293776e-03 -3.45284119e-02  4.51141261e-02\n",
            "    6.53902441e-03  4.30138968e-02]\n",
            "  [-2.57098321e-02 -4.92228530e-02  8.47153738e-03 -8.66387039e-03\n",
            "    4.20007817e-02  2.75126360e-02  9.79017466e-04 -6.64383173e-03\n",
            "   -2.40058899e-02 -2.42474563e-02]\n",
            "  [ 4.18342240e-02  4.53033783e-02 -2.68747807e-02 -4.44101691e-02\n",
            "   -2.54310723e-02  5.45376539e-03 -1.46443620e-02 -2.66876705e-02\n",
            "    4.45310958e-02  3.85745801e-02]\n",
            "  [ 2.61675008e-02  3.37892771e-03 -3.57538946e-02  3.69062088e-02\n",
            "   -2.05970928e-03 -3.79751325e-02  8.52835178e-03  1.82537697e-02\n",
            "    4.44411077e-02  4.24868800e-02]]\n",
            "\n",
            " [[-2.58246791e-02 -2.06206925e-02 -1.75144896e-02  1.17503628e-02\n",
            "    4.89812978e-02 -2.20578443e-02 -2.90968549e-02  2.10108422e-02\n",
            "   -2.48093251e-02  2.54102089e-02]\n",
            "  [-2.58246791e-02 -2.06206925e-02 -1.75144896e-02  1.17503628e-02\n",
            "    4.89812978e-02 -2.20578443e-02 -2.90968549e-02  2.10108422e-02\n",
            "   -2.48093251e-02  2.54102089e-02]\n",
            "  [-2.58246791e-02 -2.06206925e-02 -1.75144896e-02  1.17503628e-02\n",
            "    4.89812978e-02 -2.20578443e-02 -2.90968549e-02  2.10108422e-02\n",
            "   -2.48093251e-02  2.54102089e-02]\n",
            "  [-1.27554052e-02 -4.32868116e-02 -3.19566578e-03  3.59214842e-04\n",
            "   -2.95317061e-02  7.57293776e-03 -3.45284119e-02  4.51141261e-02\n",
            "    6.53902441e-03  4.30138968e-02]\n",
            "  [-2.57098321e-02 -4.92228530e-02  8.47153738e-03 -8.66387039e-03\n",
            "    4.20007817e-02  2.75126360e-02  9.79017466e-04 -6.64383173e-03\n",
            "   -2.40058899e-02 -2.42474563e-02]\n",
            "  [ 4.18342240e-02  4.53033783e-02 -2.68747807e-02 -4.44101691e-02\n",
            "   -2.54310723e-02  5.45376539e-03 -1.46443620e-02 -2.66876705e-02\n",
            "    4.45310958e-02  3.85745801e-02]\n",
            "  [ 4.38552536e-02 -3.92902717e-02 -3.67210619e-02  3.36776264e-02\n",
            "   -2.03612577e-02 -3.19352746e-02 -1.24870315e-02  3.26281525e-02\n",
            "   -3.85102630e-02  3.97920497e-02]]\n",
            "\n",
            " [[-2.58246791e-02 -2.06206925e-02 -1.75144896e-02  1.17503628e-02\n",
            "    4.89812978e-02 -2.20578443e-02 -2.90968549e-02  2.10108422e-02\n",
            "   -2.48093251e-02  2.54102089e-02]\n",
            "  [-2.58246791e-02 -2.06206925e-02 -1.75144896e-02  1.17503628e-02\n",
            "    4.89812978e-02 -2.20578443e-02 -2.90968549e-02  2.10108422e-02\n",
            "   -2.48093251e-02  2.54102089e-02]\n",
            "  [-2.58246791e-02 -2.06206925e-02 -1.75144896e-02  1.17503628e-02\n",
            "    4.89812978e-02 -2.20578443e-02 -2.90968549e-02  2.10108422e-02\n",
            "   -2.48093251e-02  2.54102089e-02]\n",
            "  [-1.27554052e-02 -4.32868116e-02 -3.19566578e-03  3.59214842e-04\n",
            "   -2.95317061e-02  7.57293776e-03 -3.45284119e-02  4.51141261e-02\n",
            "    6.53902441e-03  4.30138968e-02]\n",
            "  [-2.70034205e-02  4.54753637e-03 -2.50743032e-02  3.19699682e-02\n",
            "    4.28981893e-02 -2.64984369e-02 -2.91453600e-02  9.86474752e-03\n",
            "   -1.22954957e-02  2.17744969e-02]\n",
            "  [ 4.18342240e-02  4.53033783e-02 -2.68747807e-02 -4.44101691e-02\n",
            "   -2.54310723e-02  5.45376539e-03 -1.46443620e-02 -2.66876705e-02\n",
            "    4.45310958e-02  3.85745801e-02]\n",
            "  [-3.44088301e-02 -1.85249932e-02  4.15941365e-02  2.61367075e-02\n",
            "    2.23474242e-02 -8.69698450e-03  4.72255461e-02  2.28676535e-02\n",
            "    4.19934057e-02  5.70341200e-03]]\n",
            "\n",
            " [[-2.58246791e-02 -2.06206925e-02 -1.75144896e-02  1.17503628e-02\n",
            "    4.89812978e-02 -2.20578443e-02 -2.90968549e-02  2.10108422e-02\n",
            "   -2.48093251e-02  2.54102089e-02]\n",
            "  [-2.58246791e-02 -2.06206925e-02 -1.75144896e-02  1.17503628e-02\n",
            "    4.89812978e-02 -2.20578443e-02 -2.90968549e-02  2.10108422e-02\n",
            "   -2.48093251e-02  2.54102089e-02]\n",
            "  [-1.23559311e-03  2.11988948e-02 -4.36102152e-02  2.02974565e-02\n",
            "   -3.88461240e-02 -4.08047214e-02 -2.37991102e-02 -8.46455246e-03\n",
            "    3.12449075e-02 -1.16775520e-02]\n",
            "  [-3.77508290e-02  1.02004185e-02  2.57627629e-02  4.31455672e-04\n",
            "    4.68201898e-02  9.03173536e-03 -2.97358036e-02  4.17875126e-03\n",
            "    6.61473349e-03 -2.56593712e-02]\n",
            "  [-1.13136768e-02 -9.30150598e-03 -3.32777277e-02 -1.59340613e-02\n",
            "    4.06613983e-02 -2.69284602e-02 -4.81758229e-02 -1.75419673e-02\n",
            "   -8.09850544e-03 -2.60728244e-02]\n",
            "  [ 2.40239166e-02  3.71827930e-03 -2.12981943e-02 -1.57133937e-02\n",
            "   -1.31009929e-02 -4.55992334e-02  9.04387236e-03  1.84818842e-02\n",
            "    4.90483902e-02  4.59109284e-02]\n",
            "  [ 3.59758474e-02 -2.07224488e-02  5.17679378e-03 -2.63803843e-02\n",
            "   -1.08619556e-02  3.77958454e-02 -8.60900804e-03 -3.73628028e-02\n",
            "    2.06374265e-02 -7.66787678e-03]]\n",
            "\n",
            " [[-2.58246791e-02 -2.06206925e-02 -1.75144896e-02  1.17503628e-02\n",
            "    4.89812978e-02 -2.20578443e-02 -2.90968549e-02  2.10108422e-02\n",
            "   -2.48093251e-02  2.54102089e-02]\n",
            "  [-2.58246791e-02 -2.06206925e-02 -1.75144896e-02  1.17503628e-02\n",
            "    4.89812978e-02 -2.20578443e-02 -2.90968549e-02  2.10108422e-02\n",
            "   -2.48093251e-02  2.54102089e-02]\n",
            "  [-1.23559311e-03  2.11988948e-02 -4.36102152e-02  2.02974565e-02\n",
            "   -3.88461240e-02 -4.08047214e-02 -2.37991102e-02 -8.46455246e-03\n",
            "    3.12449075e-02 -1.16775520e-02]\n",
            "  [-3.77508290e-02  1.02004185e-02  2.57627629e-02  4.31455672e-04\n",
            "    4.68201898e-02  9.03173536e-03 -2.97358036e-02  4.17875126e-03\n",
            "    6.61473349e-03 -2.56593712e-02]\n",
            "  [-1.13136768e-02 -9.30150598e-03 -3.32777277e-02 -1.59340613e-02\n",
            "    4.06613983e-02 -2.69284602e-02 -4.81758229e-02 -1.75419673e-02\n",
            "   -8.09850544e-03 -2.60728244e-02]\n",
            "  [ 2.40239166e-02  3.71827930e-03 -2.12981943e-02 -1.57133937e-02\n",
            "   -1.31009929e-02 -4.55992334e-02  9.04387236e-03  1.84818842e-02\n",
            "    4.90483902e-02  4.59109284e-02]\n",
            "  [-1.20062120e-02  1.62021779e-02  4.45197262e-02 -3.81801017e-02\n",
            "    8.98339599e-03 -4.49722782e-02 -4.36215885e-02 -1.19321235e-02\n",
            "   -2.43057963e-02  4.77254279e-02]]\n",
            "\n",
            " [[-2.58246791e-02 -2.06206925e-02 -1.75144896e-02  1.17503628e-02\n",
            "    4.89812978e-02 -2.20578443e-02 -2.90968549e-02  2.10108422e-02\n",
            "   -2.48093251e-02  2.54102089e-02]\n",
            "  [-2.58246791e-02 -2.06206925e-02 -1.75144896e-02  1.17503628e-02\n",
            "    4.89812978e-02 -2.20578443e-02 -2.90968549e-02  2.10108422e-02\n",
            "   -2.48093251e-02  2.54102089e-02]\n",
            "  [ 1.37971751e-02  7.97583908e-03 -1.06509216e-02  9.70454141e-03\n",
            "    1.78263895e-02 -3.32808122e-02 -2.30551120e-02 -1.49043649e-03\n",
            "   -4.96238470e-03 -2.99245119e-02]\n",
            "  [-1.27554052e-02 -4.32868116e-02 -3.19566578e-03  3.59214842e-04\n",
            "   -2.95317061e-02  7.57293776e-03 -3.45284119e-02  4.51141261e-02\n",
            "    6.53902441e-03  4.30138968e-02]\n",
            "  [ 2.48215832e-02 -2.24740151e-02 -3.74355167e-03 -4.31765579e-02\n",
            "    4.41739447e-02  3.68327983e-02  1.63842551e-02  4.78227846e-02\n",
            "    6.69743866e-03  1.36784054e-02]\n",
            "  [ 4.18342240e-02  4.53033783e-02 -2.68747807e-02 -4.44101691e-02\n",
            "   -2.54310723e-02  5.45376539e-03 -1.46443620e-02 -2.66876705e-02\n",
            "    4.45310958e-02  3.85745801e-02]\n",
            "  [-3.15900669e-02  4.80891578e-02 -4.20637950e-02 -3.89715433e-02\n",
            "    8.98811966e-03 -8.36143643e-03  3.58556397e-02 -1.56631358e-02\n",
            "    3.49221118e-02  1.58757083e-02]]\n",
            "\n",
            " [[-2.58246791e-02 -2.06206925e-02 -1.75144896e-02  1.17503628e-02\n",
            "    4.89812978e-02 -2.20578443e-02 -2.90968549e-02  2.10108422e-02\n",
            "   -2.48093251e-02  2.54102089e-02]\n",
            "  [-2.58246791e-02 -2.06206925e-02 -1.75144896e-02  1.17503628e-02\n",
            "    4.89812978e-02 -2.20578443e-02 -2.90968549e-02  2.10108422e-02\n",
            "   -2.48093251e-02  2.54102089e-02]\n",
            "  [-2.58246791e-02 -2.06206925e-02 -1.75144896e-02  1.17503628e-02\n",
            "    4.89812978e-02 -2.20578443e-02 -2.90968549e-02  2.10108422e-02\n",
            "   -2.48093251e-02  2.54102089e-02]\n",
            "  [ 3.32836993e-02 -2.96951421e-02 -3.68404500e-02  1.42073147e-02\n",
            "    2.00688355e-02  1.10463388e-02 -3.04698702e-02 -2.15003639e-03\n",
            "   -1.33504272e-02  3.79778072e-03]\n",
            "  [-3.83147821e-02  4.64487337e-02  7.53766298e-03 -9.24061611e-03\n",
            "    1.01791993e-02  2.48194821e-02  2.76677310e-05  4.48278897e-02\n",
            "   -3.68477106e-02 -2.76232120e-02]\n",
            "  [ 2.78318636e-02  2.62544863e-02  3.19258012e-02 -3.07275057e-02\n",
            "   -3.26599963e-02  2.81713717e-02 -3.90078053e-02  3.93063091e-02\n",
            "   -2.71625444e-03 -3.21453437e-02]\n",
            "  [ 2.40239166e-02  3.71827930e-03 -2.12981943e-02 -1.57133937e-02\n",
            "   -1.31009929e-02 -4.55992334e-02  9.04387236e-03  1.84818842e-02\n",
            "    4.90483902e-02  4.59109284e-02]]]\n"
          ]
        }
      ]
    },
    {
      "cell_type": "code",
      "source": [
        "# assignment\n",
        "sent = ['the word is amazing',\n",
        "        'you are the peson who have something good',\n",
        "        'the world is become the most beautiful',\n",
        "        'i will become the datascient with 3 months',\n",
        "        'i am learnig datascience']"
      ],
      "metadata": {
        "id": "pnJCiV3hK7HV"
      },
      "execution_count": 38,
      "outputs": []
    },
    {
      "cell_type": "code",
      "source": [
        "import numpy as np\n",
        "from tensorflow.keras.models import Sequential\n",
        "from tensorflow.keras.layers import Dense, Embedding, Flatten\n",
        "from tensorflow.keras.preprocessing.sequence import pad_sequences\n",
        "from tensorflow.keras.preprocessing.text import one_hot"
      ],
      "metadata": {
        "id": "ZQ79AzqNK7E0"
      },
      "execution_count": 39,
      "outputs": []
    },
    {
      "cell_type": "code",
      "source": [
        "voc_size = 1000\n"
      ],
      "metadata": {
        "id": "A77CD1KqK7Bl"
      },
      "execution_count": 40,
      "outputs": []
    },
    {
      "cell_type": "code",
      "source": [
        "max_lenght = len(sent)"
      ],
      "metadata": {
        "id": "sgo7ZYfIK6-2"
      },
      "execution_count": 62,
      "outputs": []
    },
    {
      "cell_type": "code",
      "source": [
        "doc = [one_hot(words, voc_size) for words in sent]\n",
        "print(doc)"
      ],
      "metadata": {
        "colab": {
          "base_uri": "https://localhost:8080/"
        },
        "id": "UjR1vPf7NHYd",
        "outputId": "60a16e0c-e344-4d94-8ee3-8bb2dfa320da"
      },
      "execution_count": 63,
      "outputs": [
        {
          "output_type": "stream",
          "name": "stdout",
          "text": [
            "[[354, 174, 963, 854], [988, 196, 354, 719, 650, 743, 266, 677], [354, 247, 963, 118, 354, 342, 305], [754, 5, 118, 354, 144, 475, 802, 341], [754, 301, 681, 28]]\n"
          ]
        }
      ]
    },
    {
      "cell_type": "code",
      "source": [
        "embd_doc = pad_sequences(doc, padding = 'post', maxlen = max_lenght)\n",
        "print(embd_doc)"
      ],
      "metadata": {
        "colab": {
          "base_uri": "https://localhost:8080/"
        },
        "id": "1A7w9SNGNjkG",
        "outputId": "ae4392b1-9d3b-40f5-e70e-ad850c8ba35e"
      },
      "execution_count": 64,
      "outputs": [
        {
          "output_type": "stream",
          "name": "stdout",
          "text": [
            "[[354 174 963 854   0]\n",
            " [719 650 743 266 677]\n",
            " [963 118 354 342 305]\n",
            " [354 144 475 802 341]\n",
            " [754 301 681  28   0]]\n"
          ]
        }
      ]
    },
    {
      "cell_type": "code",
      "source": [
        "model = Sequential()\n",
        "model.add(Embedding(voc_size, 10, input_length = max_lenght))\n"
      ],
      "metadata": {
        "id": "egSf1Tw1K68M"
      },
      "execution_count": 66,
      "outputs": []
    },
    {
      "cell_type": "code",
      "source": [
        "model.compile('adam','mse')"
      ],
      "metadata": {
        "id": "Z20UmQxbK65U"
      },
      "execution_count": 67,
      "outputs": []
    },
    {
      "cell_type": "code",
      "source": [
        "model.summary()"
      ],
      "metadata": {
        "colab": {
          "base_uri": "https://localhost:8080/",
          "height": 168
        },
        "id": "gJ1RP8boK62W",
        "outputId": "d6fb40a7-b0db-4c24-b6e0-294319005a78"
      },
      "execution_count": 68,
      "outputs": [
        {
          "output_type": "display_data",
          "data": {
            "text/plain": [
              "\u001b[1mModel: \"sequential_16\"\u001b[0m\n"
            ],
            "text/html": [
              "<pre style=\"white-space:pre;overflow-x:auto;line-height:normal;font-family:Menlo,'DejaVu Sans Mono',consolas,'Courier New',monospace\"><span style=\"font-weight: bold\">Model: \"sequential_16\"</span>\n",
              "</pre>\n"
            ]
          },
          "metadata": {}
        },
        {
          "output_type": "display_data",
          "data": {
            "text/plain": [
              "┏━━━━━━━━━━━━━━━━━━━━━━━━━━━━━━━━━━━━━━┳━━━━━━━━━━━━━━━━━━━━━━━━━━━━━┳━━━━━━━━━━━━━━━━━┓\n",
              "┃\u001b[1m \u001b[0m\u001b[1mLayer (type)                        \u001b[0m\u001b[1m \u001b[0m┃\u001b[1m \u001b[0m\u001b[1mOutput Shape               \u001b[0m\u001b[1m \u001b[0m┃\u001b[1m \u001b[0m\u001b[1m        Param #\u001b[0m\u001b[1m \u001b[0m┃\n",
              "┡━━━━━━━━━━━━━━━━━━━━━━━━━━━━━━━━━━━━━━╇━━━━━━━━━━━━━━━━━━━━━━━━━━━━━╇━━━━━━━━━━━━━━━━━┩\n",
              "│ embedding_13 (\u001b[38;5;33mEmbedding\u001b[0m)             │ ?                           │     \u001b[38;5;34m0\u001b[0m (unbuilt) │\n",
              "└──────────────────────────────────────┴─────────────────────────────┴─────────────────┘\n"
            ],
            "text/html": [
              "<pre style=\"white-space:pre;overflow-x:auto;line-height:normal;font-family:Menlo,'DejaVu Sans Mono',consolas,'Courier New',monospace\">┏━━━━━━━━━━━━━━━━━━━━━━━━━━━━━━━━━━━━━━┳━━━━━━━━━━━━━━━━━━━━━━━━━━━━━┳━━━━━━━━━━━━━━━━━┓\n",
              "┃<span style=\"font-weight: bold\"> Layer (type)                         </span>┃<span style=\"font-weight: bold\"> Output Shape                </span>┃<span style=\"font-weight: bold\">         Param # </span>┃\n",
              "┡━━━━━━━━━━━━━━━━━━━━━━━━━━━━━━━━━━━━━━╇━━━━━━━━━━━━━━━━━━━━━━━━━━━━━╇━━━━━━━━━━━━━━━━━┩\n",
              "│ embedding_13 (<span style=\"color: #0087ff; text-decoration-color: #0087ff\">Embedding</span>)             │ ?                           │     <span style=\"color: #00af00; text-decoration-color: #00af00\">0</span> (unbuilt) │\n",
              "└──────────────────────────────────────┴─────────────────────────────┴─────────────────┘\n",
              "</pre>\n"
            ]
          },
          "metadata": {}
        },
        {
          "output_type": "display_data",
          "data": {
            "text/plain": [
              "\u001b[1m Total params: \u001b[0m\u001b[38;5;34m0\u001b[0m (0.00 B)\n"
            ],
            "text/html": [
              "<pre style=\"white-space:pre;overflow-x:auto;line-height:normal;font-family:Menlo,'DejaVu Sans Mono',consolas,'Courier New',monospace\"><span style=\"font-weight: bold\"> Total params: </span><span style=\"color: #00af00; text-decoration-color: #00af00\">0</span> (0.00 B)\n",
              "</pre>\n"
            ]
          },
          "metadata": {}
        },
        {
          "output_type": "display_data",
          "data": {
            "text/plain": [
              "\u001b[1m Trainable params: \u001b[0m\u001b[38;5;34m0\u001b[0m (0.00 B)\n"
            ],
            "text/html": [
              "<pre style=\"white-space:pre;overflow-x:auto;line-height:normal;font-family:Menlo,'DejaVu Sans Mono',consolas,'Courier New',monospace\"><span style=\"font-weight: bold\"> Trainable params: </span><span style=\"color: #00af00; text-decoration-color: #00af00\">0</span> (0.00 B)\n",
              "</pre>\n"
            ]
          },
          "metadata": {}
        },
        {
          "output_type": "display_data",
          "data": {
            "text/plain": [
              "\u001b[1m Non-trainable params: \u001b[0m\u001b[38;5;34m0\u001b[0m (0.00 B)\n"
            ],
            "text/html": [
              "<pre style=\"white-space:pre;overflow-x:auto;line-height:normal;font-family:Menlo,'DejaVu Sans Mono',consolas,'Courier New',monospace\"><span style=\"font-weight: bold\"> Non-trainable params: </span><span style=\"color: #00af00; text-decoration-color: #00af00\">0</span> (0.00 B)\n",
              "</pre>\n"
            ]
          },
          "metadata": {}
        }
      ]
    },
    {
      "cell_type": "code",
      "source": [
        "model.predict(embd_doc[0])"
      ],
      "metadata": {
        "colab": {
          "base_uri": "https://localhost:8080/"
        },
        "id": "cPHfvAnoK6zP",
        "outputId": "91a839d3-7219-4d81-fe3a-6e44618a1623"
      },
      "execution_count": 69,
      "outputs": [
        {
          "output_type": "stream",
          "name": "stderr",
          "text": [
            "WARNING:tensorflow:5 out of the last 5 calls to <function TensorFlowTrainer.make_predict_function.<locals>.one_step_on_data_distributed at 0x7aee7c026e80> triggered tf.function retracing. Tracing is expensive and the excessive number of tracings could be due to (1) creating @tf.function repeatedly in a loop, (2) passing tensors with different shapes, (3) passing Python objects instead of tensors. For (1), please define your @tf.function outside of the loop. For (2), @tf.function has reduce_retracing=True option that can avoid unnecessary retracing. For (3), please refer to https://www.tensorflow.org/guide/function#controlling_retracing and https://www.tensorflow.org/api_docs/python/tf/function for  more details.\n"
          ]
        },
        {
          "output_type": "stream",
          "name": "stdout",
          "text": [
            "\u001b[1m1/1\u001b[0m \u001b[32m━━━━━━━━━━━━━━━━━━━━\u001b[0m\u001b[37m\u001b[0m \u001b[1m0s\u001b[0m 155ms/step\n"
          ]
        },
        {
          "output_type": "execute_result",
          "data": {
            "text/plain": [
              "array([[-0.02518213, -0.03494783,  0.00950012, -0.04399418, -0.03819739,\n",
              "        -0.0489779 ,  0.01477008, -0.04784925,  0.00047857, -0.02136837],\n",
              "       [-0.00896683,  0.01815956,  0.02707114,  0.0355466 , -0.0260837 ,\n",
              "        -0.04928894,  0.01215929,  0.01446649, -0.03832281, -0.01728987],\n",
              "       [ 0.0494729 ,  0.01177809, -0.00566556,  0.00762799, -0.04899685,\n",
              "         0.0009599 , -0.03936251, -0.04194064, -0.01972291,  0.025329  ],\n",
              "       [-0.04290548,  0.01111708, -0.02718065, -0.01730411, -0.02087911,\n",
              "         0.04434789,  0.03841018, -0.02345273,  0.00910919,  0.03569644],\n",
              "       [ 0.01422532, -0.00112299,  0.01185125, -0.04039764, -0.02861805,\n",
              "         0.0255281 , -0.0084119 , -0.00696361, -0.0291772 ,  0.00028921]],\n",
              "      dtype=float32)"
            ]
          },
          "metadata": {},
          "execution_count": 69
        }
      ]
    }
  ]
}